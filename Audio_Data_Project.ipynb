{
 "cells": [
  {
   "cell_type": "markdown",
   "id": "b1b8479b",
   "metadata": {},
   "source": [
    "# Week 15 Project\n"
   ]
  },
  {
   "cell_type": "code",
   "execution_count": 1,
   "id": "ab29bd27",
   "metadata": {},
   "outputs": [],
   "source": [
    "#Dependencies\n",
    "import pandas as pd\n",
    "import numpy as np\n",
    "import requests\n",
    "import time\n",
    "from pprint import pprint\n",
    "import json\n",
    "import random\n",
    "\n",
    "import matplotlib.pyplot as plt\n",
    "import seaborn as sns"
   ]
  },
  {
   "cell_type": "code",
   "execution_count": 2,
   "id": "ea9e2209",
   "metadata": {},
   "outputs": [],
   "source": [
    "#modules for statistics\n",
    "import math\n",
    "import statistics\n",
    "from scipy import stats"
   ]
  },
  {
   "cell_type": "markdown",
   "id": "1a289336",
   "metadata": {},
   "source": [
    "# Generate Dictionary of Artist Data"
   ]
  },
  {
   "cell_type": "code",
   "execution_count": 3,
   "id": "41840d3d",
   "metadata": {},
   "outputs": [],
   "source": [
    "# Find a code to get all the artists from this api\n",
    "# https://www.theaudiodb.com/api_guide.php\n",
    "# theaudiodb.com/api/v1/json/1/search.php?s=coldplay\n",
    "\n",
    "# empty list to be populated with artist info\n",
    "artist_names = []\n",
    "\n",
    "audio_data = {'artist_id':[],\n",
    "               'artist_name':[],\n",
    "               'gender':[],\n",
    "               'member_count':[],\n",
    "               'style':[], \n",
    "               'genre':[],\n",
    "               'year_formed':[],\n",
    "               'year_disbanded':[],\n",
    "               'country_code':[],\n",
    "               'label':[]}"
   ]
  },
  {
   "cell_type": "code",
   "execution_count": 4,
   "id": "e481b8d6",
   "metadata": {
    "scrolled": true
   },
   "outputs": [],
   "source": [
    "#generate random numbers in the range of available artist IDs\n",
    "#used to populate artist_names list\n",
    "random.seed(66)\n",
    "random_nums = [random.randint(100000, 170000) for i in range(1200)]\n",
    "\n",
    "#test with known IDs and intentional errors\n",
    "#random_nums = [112024, 0, 100000, 114364]"
   ]
  },
  {
   "cell_type": "code",
   "execution_count": 5,
   "id": "ff5ebde4",
   "metadata": {
    "scrolled": true
   },
   "outputs": [],
   "source": [
    "#this artist list uses a random number generator to test the database for artist IDs\n",
    "#if an ID corresponds to an artist, it append the artist's information to info lists\n",
    "#create a base url\n",
    "#example: https://theaudiodb.com/api/v1/json/2/artist.php?i=112024\n",
    "id_url = \"https://theaudiodb.com/api/v1/json/2/artist.php?i=\"\n",
    "\n",
    "#create a loop that uses random numbers list\n",
    "for num in random_nums:\n",
    "    unique_url = id_url + f'{num}'\n",
    "    \n",
    "    #call api url\n",
    "    request = requests.get(unique_url)\n",
    "    \n",
    "    #for each attempt try to convert information to json\n",
    "    try:\n",
    "        #convert to json\n",
    "        info = request.json()\n",
    "        \n",
    "    #exception json decode error\n",
    "    #https://docs.python.org/3/tutorial/controlflow.html\n",
    "    except json.JSONDecodeError:\n",
    "        #end this iteration and continue new iteration of for loop\n",
    "        continue\n",
    "    #if json conversion successful then\n",
    "    #try to create a variable for single artist to reference later\n",
    "    try:\n",
    "        artist = info['artists'][0]['strArtist']\n",
    "        \n",
    "    #TypeError exception if url responds with {'artists': None}\n",
    "    except (TypeError):\n",
    "        continue\n",
    "        \n",
    "    #if the artist is not already in the list then \n",
    "    if artist not in artist_names:\n",
    "        \n",
    "        #populate artist_names list using info(json)\n",
    "        #response-> {'artists': [{'idArtist': '114364', 'strArtist': 'Beyoncé', ...\n",
    "        #dictionary{'artists':['{dictionary}']}\n",
    "        audio_data['artist_id'].append(info['artists'][0]['idArtist'])\n",
    "        audio_data['artist_name'].append(info['artists'][0]['strArtist'])\n",
    "        audio_data['gender'].append(info['artists'][0][\"strGender\"])\n",
    "        audio_data['member_count'].append(info['artists'][0][\"intMembers\"])\n",
    "        audio_data['style'].append(info['artists'][0][\"strStyle\"])\n",
    "        audio_data['genre'].append(info['artists'][0][\"strGenre\"])\n",
    "        audio_data['year_formed'].append(info['artists'][0][\"intFormedYear\"])\n",
    "        audio_data['year_disbanded'].append(info['artists'][0][\"strDisbanded\"])\n",
    "        audio_data['country_code'].append(info['artists'][0]['strCountryCode'])\n",
    "        audio_data['label'].append(info['artists'][0]['strLabel'])\n"
   ]
  },
  {
   "cell_type": "markdown",
   "id": "832c3376",
   "metadata": {},
   "source": [
    "#### Convert Dictionary to DataFrame"
   ]
  },
  {
   "cell_type": "code",
   "execution_count": 6,
   "id": "5e7b0ed1",
   "metadata": {},
   "outputs": [
    {
     "data": {
      "text/html": [
       "<div>\n",
       "<style scoped>\n",
       "    .dataframe tbody tr th:only-of-type {\n",
       "        vertical-align: middle;\n",
       "    }\n",
       "\n",
       "    .dataframe tbody tr th {\n",
       "        vertical-align: top;\n",
       "    }\n",
       "\n",
       "    .dataframe thead th {\n",
       "        text-align: right;\n",
       "    }\n",
       "</style>\n",
       "<table border=\"1\" class=\"dataframe\">\n",
       "  <thead>\n",
       "    <tr style=\"text-align: right;\">\n",
       "      <th></th>\n",
       "      <th>artist_id</th>\n",
       "      <th>artist_name</th>\n",
       "      <th>gender</th>\n",
       "      <th>member_count</th>\n",
       "      <th>style</th>\n",
       "      <th>genre</th>\n",
       "      <th>year_formed</th>\n",
       "      <th>year_disbanded</th>\n",
       "      <th>country_code</th>\n",
       "      <th>label</th>\n",
       "    </tr>\n",
       "  </thead>\n",
       "  <tbody>\n",
       "    <tr>\n",
       "      <th>0</th>\n",
       "      <td>140892</td>\n",
       "      <td>Ice Nine Kills</td>\n",
       "      <td>Male</td>\n",
       "      <td>4</td>\n",
       "      <td></td>\n",
       "      <td>Metalcore</td>\n",
       "      <td>2006</td>\n",
       "      <td>None</td>\n",
       "      <td>US</td>\n",
       "      <td>None</td>\n",
       "    </tr>\n",
       "    <tr>\n",
       "      <th>1</th>\n",
       "      <td>132276</td>\n",
       "      <td>Savage</td>\n",
       "      <td>Male</td>\n",
       "      <td>1</td>\n",
       "      <td>Electronic</td>\n",
       "      <td>Synthpop</td>\n",
       "      <td>1983</td>\n",
       "      <td>None</td>\n",
       "      <td>IT</td>\n",
       "      <td>None</td>\n",
       "    </tr>\n",
       "    <tr>\n",
       "      <th>2</th>\n",
       "      <td>158416</td>\n",
       "      <td>Jason Hawk Harris</td>\n",
       "      <td>None</td>\n",
       "      <td>None</td>\n",
       "      <td>None</td>\n",
       "      <td></td>\n",
       "      <td>0</td>\n",
       "      <td>None</td>\n",
       "      <td></td>\n",
       "      <td>None</td>\n",
       "    </tr>\n",
       "    <tr>\n",
       "      <th>3</th>\n",
       "      <td>133565</td>\n",
       "      <td>Violent Work of Art</td>\n",
       "      <td>Mixed</td>\n",
       "      <td>4</td>\n",
       "      <td></td>\n",
       "      <td>Industrial Metal</td>\n",
       "      <td>1994</td>\n",
       "      <td>None</td>\n",
       "      <td>SE</td>\n",
       "      <td>None</td>\n",
       "    </tr>\n",
       "    <tr>\n",
       "      <th>4</th>\n",
       "      <td>112476</td>\n",
       "      <td>James Horner</td>\n",
       "      <td>Male</td>\n",
       "      <td>1</td>\n",
       "      <td>Classical</td>\n",
       "      <td>OST</td>\n",
       "      <td>1979</td>\n",
       "      <td>None</td>\n",
       "      <td>US</td>\n",
       "      <td>None</td>\n",
       "    </tr>\n",
       "    <tr>\n",
       "      <th>...</th>\n",
       "      <td>...</td>\n",
       "      <td>...</td>\n",
       "      <td>...</td>\n",
       "      <td>...</td>\n",
       "      <td>...</td>\n",
       "      <td>...</td>\n",
       "      <td>...</td>\n",
       "      <td>...</td>\n",
       "      <td>...</td>\n",
       "      <td>...</td>\n",
       "    </tr>\n",
       "    <tr>\n",
       "      <th>928</th>\n",
       "      <td>130132</td>\n",
       "      <td>Marea</td>\n",
       "      <td>Male</td>\n",
       "      <td>5</td>\n",
       "      <td>Rock/Pop</td>\n",
       "      <td>Rock</td>\n",
       "      <td>1997</td>\n",
       "      <td>None</td>\n",
       "      <td>ES</td>\n",
       "      <td>None</td>\n",
       "    </tr>\n",
       "    <tr>\n",
       "      <th>929</th>\n",
       "      <td>168652</td>\n",
       "      <td>Marlene Dietrich</td>\n",
       "      <td>Female</td>\n",
       "      <td>1</td>\n",
       "      <td></td>\n",
       "      <td></td>\n",
       "      <td>None</td>\n",
       "      <td>None</td>\n",
       "      <td>DE</td>\n",
       "      <td>None</td>\n",
       "    </tr>\n",
       "    <tr>\n",
       "      <th>930</th>\n",
       "      <td>113975</td>\n",
       "      <td>Xandria</td>\n",
       "      <td>Mixed</td>\n",
       "      <td>4</td>\n",
       "      <td>Metal</td>\n",
       "      <td>Symphonic Metal</td>\n",
       "      <td>1997</td>\n",
       "      <td>None</td>\n",
       "      <td>DE</td>\n",
       "      <td>None</td>\n",
       "    </tr>\n",
       "    <tr>\n",
       "      <th>931</th>\n",
       "      <td>162484</td>\n",
       "      <td>Moaning</td>\n",
       "      <td>None</td>\n",
       "      <td>None</td>\n",
       "      <td>None</td>\n",
       "      <td></td>\n",
       "      <td>0</td>\n",
       "      <td>None</td>\n",
       "      <td></td>\n",
       "      <td>None</td>\n",
       "    </tr>\n",
       "    <tr>\n",
       "      <th>932</th>\n",
       "      <td>117411</td>\n",
       "      <td>Ancestors</td>\n",
       "      <td>Male</td>\n",
       "      <td>5</td>\n",
       "      <td>Rock/Pop</td>\n",
       "      <td>Metal</td>\n",
       "      <td>2006</td>\n",
       "      <td>None</td>\n",
       "      <td>US</td>\n",
       "      <td>None</td>\n",
       "    </tr>\n",
       "  </tbody>\n",
       "</table>\n",
       "<p>933 rows × 10 columns</p>\n",
       "</div>"
      ],
      "text/plain": [
       "    artist_id          artist_name  gender member_count       style  \\\n",
       "0      140892       Ice Nine Kills    Male            4               \n",
       "1      132276               Savage    Male            1  Electronic   \n",
       "2      158416    Jason Hawk Harris    None         None        None   \n",
       "3      133565  Violent Work of Art   Mixed            4               \n",
       "4      112476         James Horner    Male            1   Classical   \n",
       "..        ...                  ...     ...          ...         ...   \n",
       "928    130132                Marea    Male            5    Rock/Pop   \n",
       "929    168652     Marlene Dietrich  Female            1               \n",
       "930    113975              Xandria   Mixed            4       Metal   \n",
       "931    162484              Moaning    None         None        None   \n",
       "932    117411            Ancestors    Male            5    Rock/Pop   \n",
       "\n",
       "                genre year_formed year_disbanded country_code label  \n",
       "0           Metalcore        2006           None           US  None  \n",
       "1            Synthpop        1983           None           IT  None  \n",
       "2                               0           None               None  \n",
       "3    Industrial Metal        1994           None           SE  None  \n",
       "4                 OST        1979           None           US  None  \n",
       "..                ...         ...            ...          ...   ...  \n",
       "928              Rock        1997           None           ES  None  \n",
       "929                          None           None           DE  None  \n",
       "930   Symphonic Metal        1997           None           DE  None  \n",
       "931                             0           None               None  \n",
       "932             Metal        2006           None           US  None  \n",
       "\n",
       "[933 rows x 10 columns]"
      ]
     },
     "execution_count": 6,
     "metadata": {},
     "output_type": "execute_result"
    }
   ],
   "source": [
    "audio_df = pd.DataFrame(audio_data)\n",
    "audio_df"
   ]
  },
  {
   "cell_type": "code",
   "execution_count": null,
   "id": "6357e1c3",
   "metadata": {},
   "outputs": [],
   "source": [
    "# split data into multiple data frames for tables\n",
    "artist_df = audio_df.iloc[:,:3]\n",
    "info_df = audio_df.iloc[:, [0,8,6,7,3]]\n",
    "location_df = audio_df.iloc[]"
   ]
  },
  {
   "cell_type": "markdown",
   "id": "a8a59ea2",
   "metadata": {},
   "source": [
    "# Preprocessing"
   ]
  },
  {
   "cell_type": "markdown",
   "id": "f4ccac90",
   "metadata": {},
   "source": [
    "#### Converting to NaN\n",
    "- Cleaning the data to ensure that all null values are represented in the same way.  \n",
    "- This data contains NaN, Null, None, and empty string '' --all representing missing values.  \n",
    "- We replaced these missing values with Null with null. For year disbanded, replaced None with no, meaning that they haven't disbanded."
   ]
  },
  {
   "cell_type": "code",
   "execution_count": 7,
   "id": "c47870b3",
   "metadata": {},
   "outputs": [
    {
     "name": "stdout",
     "output_type": "stream",
     "text": [
      "artist_id           0\n",
      "artist_name         0\n",
      "gender            276\n",
      "member_count      276\n",
      "style             281\n",
      "genre              48\n",
      "year_formed       113\n",
      "year_disbanded    879\n",
      "country_code        0\n",
      "label             882\n",
      "dtype: int64\n"
     ]
    }
   ],
   "source": [
    "#sum of null values in each column\n",
    "print(audio_df.isnull().sum())\n",
    "\n",
    "#style has more null values than genre, drop style column\n",
    "audio_df.drop(['style'], axis=1, inplace=True)"
   ]
  },
  {
   "cell_type": "code",
   "execution_count": 8,
   "id": "c27c2e38",
   "metadata": {},
   "outputs": [],
   "source": [
    "#convert empty strings and Empty values into NaN\n",
    "\n",
    "#audio_df['gender'].replace({None: np.nan, '' : np.nan}, inplace = True) \n",
    "#audio_df['member_count'].replace({None: np.nan, '' : np.nan}, inplace = True)\n",
    "#audio_df['genre'].replace({'':np.nan, None:np.nan}, inplace = True)\n",
    "#artist_df['year_formed'].replace({'0':np.nan, 'None':np.nan}, inplace = True) \n",
    "#audio_df['year_disbanded'].replace({'0':np.nan, 'None':np.nan}, inplace = True)\n",
    "\n",
    "audio_df.replace({'0':np.nan,\n",
    "                  0:np.nan,\n",
    "                  'None':np.nan, \n",
    "                  None:np.nan, \n",
    "                  '':np.nan}, inplace = True)"
   ]
  },
  {
   "cell_type": "code",
   "execution_count": 9,
   "id": "e3063da7",
   "metadata": {},
   "outputs": [
    {
     "data": {
      "text/plain": [
       "artist_id           0\n",
       "artist_name         0\n",
       "gender            406\n",
       "member_count      276\n",
       "genre             422\n",
       "year_formed       354\n",
       "year_disbanded    880\n",
       "country_code      179\n",
       "label             882\n",
       "dtype: int64"
      ]
     },
     "execution_count": 9,
     "metadata": {},
     "output_type": "execute_result"
    }
   ],
   "source": [
    "audio_df.isnull().sum()"
   ]
  },
  {
   "cell_type": "markdown",
   "id": "b62f65da",
   "metadata": {},
   "source": [
    "#### Converting datatypes"
   ]
  },
  {
   "cell_type": "code",
   "execution_count": 10,
   "id": "a54fbcc3",
   "metadata": {
    "scrolled": true
   },
   "outputs": [
    {
     "data": {
      "text/plain": [
       "artist_id         object\n",
       "artist_name       object\n",
       "gender            object\n",
       "member_count      object\n",
       "genre             object\n",
       "year_formed       object\n",
       "year_disbanded    object\n",
       "country_code      object\n",
       "label             object\n",
       "dtype: object"
      ]
     },
     "execution_count": 10,
     "metadata": {},
     "output_type": "execute_result"
    }
   ],
   "source": [
    "audio_df.dtypes"
   ]
  },
  {
   "cell_type": "code",
   "execution_count": 43,
   "id": "c5cdc43f",
   "metadata": {},
   "outputs": [
    {
     "data": {
      "text/plain": [
       "artist_id          Int32\n",
       "artist_name       object\n",
       "gender            object\n",
       "member_count       Int64\n",
       "genre             object\n",
       "year_formed        Int64\n",
       "year_disbanded     Int64\n",
       "country_code      object\n",
       "label             object\n",
       "dtype: object"
      ]
     },
     "execution_count": 43,
     "metadata": {},
     "output_type": "execute_result"
    }
   ],
   "source": [
    "audio_df[['artist_id', \n",
    "          'member_count', \n",
    "          'year_formed', \n",
    "          'year_disbanded']] = audio_df[['artist_id', \n",
    "                                         'member_count', \n",
    "                                         'year_formed', \n",
    "                                         'year_disbanded']].convert_dtypes(convert_integer=True)\n",
    "\n",
    "#.apply(pd.to_numeric,errors='coerce',downcast='integer')\n",
    "audio_df.dtypes"
   ]
  },
  {
   "cell_type": "code",
   "execution_count": 34,
   "id": "0b9269a1",
   "metadata": {},
   "outputs": [],
   "source": [
    "#convert year_disbanded and year_formed to datetime\n",
    "\n",
    "#pd.to_datetime(audio_df['year_formed'], \n",
    "#               format= '%Y', errors='coerce').dt.year.astype('Int64')\n",
    "\n",
    "\n",
    "#audio_df['year_formed2'] = pd.DatetimeIndex(audio_df['year_formed']).year\n",
    "#audio_df"
   ]
  },
  {
   "cell_type": "markdown",
   "id": "7e0031e1",
   "metadata": {},
   "source": [
    "#### Feature Engineering"
   ]
  },
  {
   "cell_type": "code",
   "execution_count": 51,
   "id": "05bccdde",
   "metadata": {},
   "outputs": [
    {
     "ename": "UnicodeDecodeError",
     "evalue": "'utf-8' codec can't decode byte 0xe7 in position 958: invalid continuation byte",
     "output_type": "error",
     "traceback": [
      "\u001b[1;31m---------------------------------------------------------------------------\u001b[0m",
      "\u001b[1;31mUnicodeDecodeError\u001b[0m                        Traceback (most recent call last)",
      "\u001b[1;32m~\\AppData\\Local\\Temp/ipykernel_16540/3033204266.py\u001b[0m in \u001b[0;36m<module>\u001b[1;34m\u001b[0m\n\u001b[1;32m----> 1\u001b[1;33m \u001b[0malpha2_codes\u001b[0m \u001b[1;33m=\u001b[0m \u001b[0mpd\u001b[0m\u001b[1;33m.\u001b[0m\u001b[0mread_csv\u001b[0m\u001b[1;33m(\u001b[0m\u001b[1;34m'../Datasets/alpha2_codes.csv'\u001b[0m\u001b[1;33m)\u001b[0m\u001b[1;33m\u001b[0m\u001b[1;33m\u001b[0m\u001b[0m\n\u001b[0m\u001b[0;32m      2\u001b[0m \u001b[0malpha2\u001b[0m \u001b[1;33m=\u001b[0m \u001b[1;33m[\u001b[0m\u001b[1;33m]\u001b[0m\u001b[1;33m\u001b[0m\u001b[1;33m\u001b[0m\u001b[0m\n\u001b[0;32m      3\u001b[0m \u001b[0mcountry_code\u001b[0m \u001b[1;33m=\u001b[0m \u001b[0maudio_df\u001b[0m\u001b[1;33m[\u001b[0m\u001b[1;34m'country_code'\u001b[0m\u001b[1;33m]\u001b[0m\u001b[1;33m\u001b[0m\u001b[1;33m\u001b[0m\u001b[0m\n",
      "\u001b[1;32m~\\anaconda3\\lib\\site-packages\\pandas\\util\\_decorators.py\u001b[0m in \u001b[0;36mwrapper\u001b[1;34m(*args, **kwargs)\u001b[0m\n\u001b[0;32m    309\u001b[0m                     \u001b[0mstacklevel\u001b[0m\u001b[1;33m=\u001b[0m\u001b[0mstacklevel\u001b[0m\u001b[1;33m,\u001b[0m\u001b[1;33m\u001b[0m\u001b[1;33m\u001b[0m\u001b[0m\n\u001b[0;32m    310\u001b[0m                 )\n\u001b[1;32m--> 311\u001b[1;33m             \u001b[1;32mreturn\u001b[0m \u001b[0mfunc\u001b[0m\u001b[1;33m(\u001b[0m\u001b[1;33m*\u001b[0m\u001b[0margs\u001b[0m\u001b[1;33m,\u001b[0m \u001b[1;33m**\u001b[0m\u001b[0mkwargs\u001b[0m\u001b[1;33m)\u001b[0m\u001b[1;33m\u001b[0m\u001b[1;33m\u001b[0m\u001b[0m\n\u001b[0m\u001b[0;32m    312\u001b[0m \u001b[1;33m\u001b[0m\u001b[0m\n\u001b[0;32m    313\u001b[0m         \u001b[1;32mreturn\u001b[0m \u001b[0mwrapper\u001b[0m\u001b[1;33m\u001b[0m\u001b[1;33m\u001b[0m\u001b[0m\n",
      "\u001b[1;32m~\\anaconda3\\lib\\site-packages\\pandas\\io\\parsers\\readers.py\u001b[0m in \u001b[0;36mread_csv\u001b[1;34m(filepath_or_buffer, sep, delimiter, header, names, index_col, usecols, squeeze, prefix, mangle_dupe_cols, dtype, engine, converters, true_values, false_values, skipinitialspace, skiprows, skipfooter, nrows, na_values, keep_default_na, na_filter, verbose, skip_blank_lines, parse_dates, infer_datetime_format, keep_date_col, date_parser, dayfirst, cache_dates, iterator, chunksize, compression, thousands, decimal, lineterminator, quotechar, quoting, doublequote, escapechar, comment, encoding, encoding_errors, dialect, error_bad_lines, warn_bad_lines, on_bad_lines, delim_whitespace, low_memory, memory_map, float_precision, storage_options)\u001b[0m\n\u001b[0;32m    584\u001b[0m     \u001b[0mkwds\u001b[0m\u001b[1;33m.\u001b[0m\u001b[0mupdate\u001b[0m\u001b[1;33m(\u001b[0m\u001b[0mkwds_defaults\u001b[0m\u001b[1;33m)\u001b[0m\u001b[1;33m\u001b[0m\u001b[1;33m\u001b[0m\u001b[0m\n\u001b[0;32m    585\u001b[0m \u001b[1;33m\u001b[0m\u001b[0m\n\u001b[1;32m--> 586\u001b[1;33m     \u001b[1;32mreturn\u001b[0m \u001b[0m_read\u001b[0m\u001b[1;33m(\u001b[0m\u001b[0mfilepath_or_buffer\u001b[0m\u001b[1;33m,\u001b[0m \u001b[0mkwds\u001b[0m\u001b[1;33m)\u001b[0m\u001b[1;33m\u001b[0m\u001b[1;33m\u001b[0m\u001b[0m\n\u001b[0m\u001b[0;32m    587\u001b[0m \u001b[1;33m\u001b[0m\u001b[0m\n\u001b[0;32m    588\u001b[0m \u001b[1;33m\u001b[0m\u001b[0m\n",
      "\u001b[1;32m~\\anaconda3\\lib\\site-packages\\pandas\\io\\parsers\\readers.py\u001b[0m in \u001b[0;36m_read\u001b[1;34m(filepath_or_buffer, kwds)\u001b[0m\n\u001b[0;32m    480\u001b[0m \u001b[1;33m\u001b[0m\u001b[0m\n\u001b[0;32m    481\u001b[0m     \u001b[1;31m# Create the parser.\u001b[0m\u001b[1;33m\u001b[0m\u001b[1;33m\u001b[0m\u001b[0m\n\u001b[1;32m--> 482\u001b[1;33m     \u001b[0mparser\u001b[0m \u001b[1;33m=\u001b[0m \u001b[0mTextFileReader\u001b[0m\u001b[1;33m(\u001b[0m\u001b[0mfilepath_or_buffer\u001b[0m\u001b[1;33m,\u001b[0m \u001b[1;33m**\u001b[0m\u001b[0mkwds\u001b[0m\u001b[1;33m)\u001b[0m\u001b[1;33m\u001b[0m\u001b[1;33m\u001b[0m\u001b[0m\n\u001b[0m\u001b[0;32m    483\u001b[0m \u001b[1;33m\u001b[0m\u001b[0m\n\u001b[0;32m    484\u001b[0m     \u001b[1;32mif\u001b[0m \u001b[0mchunksize\u001b[0m \u001b[1;32mor\u001b[0m \u001b[0miterator\u001b[0m\u001b[1;33m:\u001b[0m\u001b[1;33m\u001b[0m\u001b[1;33m\u001b[0m\u001b[0m\n",
      "\u001b[1;32m~\\anaconda3\\lib\\site-packages\\pandas\\io\\parsers\\readers.py\u001b[0m in \u001b[0;36m__init__\u001b[1;34m(self, f, engine, **kwds)\u001b[0m\n\u001b[0;32m    809\u001b[0m             \u001b[0mself\u001b[0m\u001b[1;33m.\u001b[0m\u001b[0moptions\u001b[0m\u001b[1;33m[\u001b[0m\u001b[1;34m\"has_index_names\"\u001b[0m\u001b[1;33m]\u001b[0m \u001b[1;33m=\u001b[0m \u001b[0mkwds\u001b[0m\u001b[1;33m[\u001b[0m\u001b[1;34m\"has_index_names\"\u001b[0m\u001b[1;33m]\u001b[0m\u001b[1;33m\u001b[0m\u001b[1;33m\u001b[0m\u001b[0m\n\u001b[0;32m    810\u001b[0m \u001b[1;33m\u001b[0m\u001b[0m\n\u001b[1;32m--> 811\u001b[1;33m         \u001b[0mself\u001b[0m\u001b[1;33m.\u001b[0m\u001b[0m_engine\u001b[0m \u001b[1;33m=\u001b[0m \u001b[0mself\u001b[0m\u001b[1;33m.\u001b[0m\u001b[0m_make_engine\u001b[0m\u001b[1;33m(\u001b[0m\u001b[0mself\u001b[0m\u001b[1;33m.\u001b[0m\u001b[0mengine\u001b[0m\u001b[1;33m)\u001b[0m\u001b[1;33m\u001b[0m\u001b[1;33m\u001b[0m\u001b[0m\n\u001b[0m\u001b[0;32m    812\u001b[0m \u001b[1;33m\u001b[0m\u001b[0m\n\u001b[0;32m    813\u001b[0m     \u001b[1;32mdef\u001b[0m \u001b[0mclose\u001b[0m\u001b[1;33m(\u001b[0m\u001b[0mself\u001b[0m\u001b[1;33m)\u001b[0m\u001b[1;33m:\u001b[0m\u001b[1;33m\u001b[0m\u001b[1;33m\u001b[0m\u001b[0m\n",
      "\u001b[1;32m~\\anaconda3\\lib\\site-packages\\pandas\\io\\parsers\\readers.py\u001b[0m in \u001b[0;36m_make_engine\u001b[1;34m(self, engine)\u001b[0m\n\u001b[0;32m   1038\u001b[0m             )\n\u001b[0;32m   1039\u001b[0m         \u001b[1;31m# error: Too many arguments for \"ParserBase\"\u001b[0m\u001b[1;33m\u001b[0m\u001b[1;33m\u001b[0m\u001b[0m\n\u001b[1;32m-> 1040\u001b[1;33m         \u001b[1;32mreturn\u001b[0m \u001b[0mmapping\u001b[0m\u001b[1;33m[\u001b[0m\u001b[0mengine\u001b[0m\u001b[1;33m]\u001b[0m\u001b[1;33m(\u001b[0m\u001b[0mself\u001b[0m\u001b[1;33m.\u001b[0m\u001b[0mf\u001b[0m\u001b[1;33m,\u001b[0m \u001b[1;33m**\u001b[0m\u001b[0mself\u001b[0m\u001b[1;33m.\u001b[0m\u001b[0moptions\u001b[0m\u001b[1;33m)\u001b[0m  \u001b[1;31m# type: ignore[call-arg]\u001b[0m\u001b[1;33m\u001b[0m\u001b[1;33m\u001b[0m\u001b[0m\n\u001b[0m\u001b[0;32m   1041\u001b[0m \u001b[1;33m\u001b[0m\u001b[0m\n\u001b[0;32m   1042\u001b[0m     \u001b[1;32mdef\u001b[0m \u001b[0m_failover_to_python\u001b[0m\u001b[1;33m(\u001b[0m\u001b[0mself\u001b[0m\u001b[1;33m)\u001b[0m\u001b[1;33m:\u001b[0m\u001b[1;33m\u001b[0m\u001b[1;33m\u001b[0m\u001b[0m\n",
      "\u001b[1;32m~\\anaconda3\\lib\\site-packages\\pandas\\io\\parsers\\c_parser_wrapper.py\u001b[0m in \u001b[0;36m__init__\u001b[1;34m(self, src, **kwds)\u001b[0m\n\u001b[0;32m     67\u001b[0m         \u001b[0mkwds\u001b[0m\u001b[1;33m[\u001b[0m\u001b[1;34m\"dtype\"\u001b[0m\u001b[1;33m]\u001b[0m \u001b[1;33m=\u001b[0m \u001b[0mensure_dtype_objs\u001b[0m\u001b[1;33m(\u001b[0m\u001b[0mkwds\u001b[0m\u001b[1;33m.\u001b[0m\u001b[0mget\u001b[0m\u001b[1;33m(\u001b[0m\u001b[1;34m\"dtype\"\u001b[0m\u001b[1;33m,\u001b[0m \u001b[1;32mNone\u001b[0m\u001b[1;33m)\u001b[0m\u001b[1;33m)\u001b[0m\u001b[1;33m\u001b[0m\u001b[1;33m\u001b[0m\u001b[0m\n\u001b[0;32m     68\u001b[0m         \u001b[1;32mtry\u001b[0m\u001b[1;33m:\u001b[0m\u001b[1;33m\u001b[0m\u001b[1;33m\u001b[0m\u001b[0m\n\u001b[1;32m---> 69\u001b[1;33m             \u001b[0mself\u001b[0m\u001b[1;33m.\u001b[0m\u001b[0m_reader\u001b[0m \u001b[1;33m=\u001b[0m \u001b[0mparsers\u001b[0m\u001b[1;33m.\u001b[0m\u001b[0mTextReader\u001b[0m\u001b[1;33m(\u001b[0m\u001b[0mself\u001b[0m\u001b[1;33m.\u001b[0m\u001b[0mhandles\u001b[0m\u001b[1;33m.\u001b[0m\u001b[0mhandle\u001b[0m\u001b[1;33m,\u001b[0m \u001b[1;33m**\u001b[0m\u001b[0mkwds\u001b[0m\u001b[1;33m)\u001b[0m\u001b[1;33m\u001b[0m\u001b[1;33m\u001b[0m\u001b[0m\n\u001b[0m\u001b[0;32m     70\u001b[0m         \u001b[1;32mexcept\u001b[0m \u001b[0mException\u001b[0m\u001b[1;33m:\u001b[0m\u001b[1;33m\u001b[0m\u001b[1;33m\u001b[0m\u001b[0m\n\u001b[0;32m     71\u001b[0m             \u001b[0mself\u001b[0m\u001b[1;33m.\u001b[0m\u001b[0mhandles\u001b[0m\u001b[1;33m.\u001b[0m\u001b[0mclose\u001b[0m\u001b[1;33m(\u001b[0m\u001b[1;33m)\u001b[0m\u001b[1;33m\u001b[0m\u001b[1;33m\u001b[0m\u001b[0m\n",
      "\u001b[1;32m~\\anaconda3\\lib\\site-packages\\pandas\\_libs\\parsers.pyx\u001b[0m in \u001b[0;36mpandas._libs.parsers.TextReader.__cinit__\u001b[1;34m()\u001b[0m\n",
      "\u001b[1;32m~\\anaconda3\\lib\\site-packages\\pandas\\_libs\\parsers.pyx\u001b[0m in \u001b[0;36mpandas._libs.parsers.TextReader._get_header\u001b[1;34m()\u001b[0m\n",
      "\u001b[1;32m~\\anaconda3\\lib\\site-packages\\pandas\\_libs\\parsers.pyx\u001b[0m in \u001b[0;36mpandas._libs.parsers.TextReader._tokenize_rows\u001b[1;34m()\u001b[0m\n",
      "\u001b[1;32m~\\anaconda3\\lib\\site-packages\\pandas\\_libs\\parsers.pyx\u001b[0m in \u001b[0;36mpandas._libs.parsers.raise_parser_error\u001b[1;34m()\u001b[0m\n",
      "\u001b[1;31mUnicodeDecodeError\u001b[0m: 'utf-8' codec can't decode byte 0xe7 in position 958: invalid continuation byte"
     ]
    }
   ],
   "source": [
    "alpha2_codes = pd.read_csv('../Datasets/alpha2_codes.csv')\n",
    "alpha2 = []\n",
    "country_code = audio_df['country_code']"
   ]
  },
  {
   "cell_type": "code",
   "execution_count": null,
   "id": "ad09c296",
   "metadata": {},
   "outputs": [],
   "source": []
  },
  {
   "cell_type": "code",
   "execution_count": 44,
   "id": "c83da150",
   "metadata": {},
   "outputs": [
    {
     "data": {
      "text/plain": [
       "US    229\n",
       "GB     80\n",
       "DE     54\n",
       "FR     52\n",
       "IT     28\n",
       "     ... \n",
       "RS      1\n",
       "CO      1\n",
       "IR      1\n",
       "GH      1\n",
       "LT      1\n",
       "Name: country_code, Length: 63, dtype: int64"
      ]
     },
     "execution_count": 44,
     "metadata": {},
     "output_type": "execute_result"
    }
   ],
   "source": [
    "audio_df['country_code'].value_counts()"
   ]
  },
  {
   "cell_type": "code",
   "execution_count": null,
   "id": "5ed4dae9",
   "metadata": {},
   "outputs": [],
   "source": [
    "# use country code to create expanded country column\n",
    "audio_df.loc[audio_df['country_code'].str.contains\n",
    "             ('France|French|Livorno|Paris', \n",
    "              na=False, case=False, regex=True), 'location'] = 'France'"
   ]
  },
  {
   "cell_type": "markdown",
   "id": "3e689161",
   "metadata": {},
   "source": [
    "#### Dropping Null Data\n",
    "We created variables to represent dataframes with the null values removed for a single column for further analysis"
   ]
  },
  {
   "cell_type": "code",
   "execution_count": null,
   "id": "aef99838",
   "metadata": {},
   "outputs": [],
   "source": [
    "#REPLACE AND DROP NAN FOR INDIVIDUAL COLUMNS\n",
    "#assign individual variables for individual columns with null dropped\n",
    "\n",
    "#replace 'Null' with NaN for all values in location column, drop NaN\n",
    "location_na = audio_df.replace({'location': r'Null'}, {'location': np.nan}, regex=True)\n",
    "location_dropped = location_na.dropna(axis=0, subset=['location'], inplace=False)\n",
    "#location_dropped\n",
    "\n",
    "#replace 'Null' with NaN for all values in genre column, drop NaN\n",
    "genre_na = audio_df.replace({'genre': r'Null'}, {'genre': np.nan}, regex=True)\n",
    "genre_dropped = genre_na.dropna(axis=0, subset=['genre'], inplace=False)\n",
    "#genre_dropped\n",
    "\n",
    "#replace 'Null' with NaN for all values in genre column, drop NaN\n",
    "gender_na = audio_df.replace({'gender': r'Null'}, {'gender': np.nan}, regex=True)\n",
    "gender_dropped = gender_na.dropna(axis=0, subset=['gender'], inplace=False)\n",
    "#gender_dropped\n",
    "\n",
    "#replace 'Null' with NaN for all values in year_formed column, drop NaN\n",
    "year_formed_na = audio_df.replace({'year_formed': r'Null'}, {'year_formed': np.nan}, regex=True)\n",
    "year_formed_dropped = year_formed_na.dropna(axis=0, subset=['year_formed'], inplace=False)\n",
    "#year_formed_dropped"
   ]
  },
  {
   "cell_type": "markdown",
   "id": "c96f4166",
   "metadata": {},
   "source": [
    "# Analysis of the Data"
   ]
  },
  {
   "cell_type": "markdown",
   "id": "41efaf6c",
   "metadata": {},
   "source": [
    "## Location Analysis\n",
    "\n",
    "Find the count and proportion of artists by location."
   ]
  },
  {
   "cell_type": "markdown",
   "id": "6513880a",
   "metadata": {},
   "source": [
    "#### Location Count"
   ]
  },
  {
   "cell_type": "code",
   "execution_count": null,
   "id": "f9739ca6",
   "metadata": {},
   "outputs": [],
   "source": [
    "#LOCATION COUNT - NULL DROPPED\n",
    "\n",
    "#number of times each location appears in the dataframe\n",
    "location_counts_dropped = location_dropped['location'].value_counts()\n",
    "\n",
    "#series\n",
    "location_counts_dropped\n",
    "\n",
    "#create dictionary and convert to df\n",
    "location_counts_dict = {'Artist Location':location_counts_dropped}\n",
    "location_counts_df = pd.DataFrame(location_counts_dict)\n",
    "\n",
    "#top 5 artist locations\n",
    "location_top5 = location_counts_df.head(5)\n",
    "location_top5"
   ]
  },
  {
   "cell_type": "markdown",
   "id": "d4dba9c7",
   "metadata": {},
   "source": [
    "#### Location Proportion"
   ]
  },
  {
   "cell_type": "code",
   "execution_count": null,
   "id": "b30705ca",
   "metadata": {
    "scrolled": true
   },
   "outputs": [],
   "source": [
    "#LOCATION PROPORTION - NULL DROPPED\n",
    "\n",
    "#proportion each location represents in the data\n",
    "location_proportion_dropped = round(location_counts_dropped / location_counts_dropped.sum(), 3)\n",
    "\n",
    "#series\n",
    "location_proportion_dropped\n",
    "\n",
    "#create dictionary and convert to df\n",
    "location_proportion_dict = {'Artist Location Proportion':location_proportion_dropped}\n",
    "location_proportion_df = pd.DataFrame(location_proportion_dict)\n",
    "\n",
    "#top 5 by proportion\n",
    "location_proportion_top5 = location_proportion_df.head(5)\n",
    "location_proportion_top5"
   ]
  },
  {
   "cell_type": "code",
   "execution_count": null,
   "id": "13d30342",
   "metadata": {},
   "outputs": [],
   "source": [
    "x = np.array([\"USA\", \"UK\", \"Germany\", \"Canada\", \"Italy\"])\n",
    "y = np.array([113, 44, 18, 12, 11])\n",
    "\n",
    "plt.bar(x,y)\n",
    "plt.title('Top Locations for Artist')\n",
    "plt.xlabel('Countries')\n",
    "plt.ylabel('Number of Artists')\n",
    "plt.xticks(rotation='vertical')\n",
    "plt.show()\n"
   ]
  },
  {
   "cell_type": "code",
   "execution_count": null,
   "id": "a72b36f8",
   "metadata": {},
   "outputs": [],
   "source": [
    "x = [113, 44, 18, 12, 11]\n",
    "labels = [\"USA\", \"UK\", \"Germany\", \"Canada\", \"Italy\"]\n",
    "myexplode = [0.2, 0, 0, 0, 0]\n",
    "\n",
    "fig, ax = plt.subplots()\n",
    "ax.pie(x, labels=labels, explode = myexplode, shadow = True)\n",
    "ax.set_title('Top Location for Artist', y = 1.12)\n",
    "plt.tight_layout()\n",
    "plt.show()\n"
   ]
  },
  {
   "cell_type": "markdown",
   "id": "55e8db0b",
   "metadata": {},
   "source": [
    "## Genre Analysis\n",
    "\n",
    "Find the mode, count, proportion of artists by genre."
   ]
  },
  {
   "cell_type": "markdown",
   "id": "929e987a",
   "metadata": {},
   "source": [
    "#### Genre Mode\n",
    "\n",
    "The value that appears most frequently in the genre column is Pop."
   ]
  },
  {
   "cell_type": "code",
   "execution_count": null,
   "id": "6d418820",
   "metadata": {},
   "outputs": [],
   "source": [
    "#The mode shows the most frequently occuring value in a column\n",
    "\n",
    "statistics.mode(genre_dropped['genre'])"
   ]
  },
  {
   "cell_type": "markdown",
   "id": "9ba22ec8",
   "metadata": {},
   "source": [
    "#### Genre Count"
   ]
  },
  {
   "cell_type": "code",
   "execution_count": null,
   "id": "1a566e44",
   "metadata": {},
   "outputs": [],
   "source": [
    "#GENRE COUNT - NULL DROPPED\n",
    "\n",
    "#count of unique genres, excluding null values\n",
    "genre_counts_dropped = genre_dropped['genre'].value_counts()\n",
    "\n",
    "#series\n",
    "genre_counts_dropped\n",
    "\n",
    "#create dictionary and convert to df\n",
    "genre_counts_dict = {'Genre Count':genre_counts_dropped}\n",
    "genre_counts_df = pd.DataFrame(genre_counts_dict)\n",
    "\n",
    "#top 10 by proportion\n",
    "genre_counts_top10 = genre_counts_df.head(10)\n",
    "genre_counts_top10"
   ]
  },
  {
   "cell_type": "markdown",
   "id": "0acc761f",
   "metadata": {},
   "source": [
    "#### Genre Proportion"
   ]
  },
  {
   "cell_type": "code",
   "execution_count": null,
   "id": "d7d0f767",
   "metadata": {},
   "outputs": [],
   "source": [
    "#GENRE PROPORTION - NULL DROPPED\n",
    "\n",
    "#proportion each genre represents in the data\n",
    "genre_proportion_dropped = round(genre_counts_dropped / genre_counts_dropped.sum(), 3)\n",
    "\n",
    "#series\n",
    "genre_proportion_dropped\n",
    "\n",
    "#create dictionary and convert to df\n",
    "genre_proportion_dict = {'Genre Proportion':genre_proportion_dropped}\n",
    "genre_proportion_df = pd.DataFrame(genre_proportion_dict)\n",
    "\n",
    "#top 10 by proportion\n",
    "genre_proportion_top10 = genre_proportion_df.head(10)\n",
    "genre_proportion_top10"
   ]
  },
  {
   "cell_type": "code",
   "execution_count": null,
   "id": "66587381",
   "metadata": {},
   "outputs": [],
   "source": [
    "x = [37, 22, 22, 19, 16]\n",
    "labels = [\"Pop\", \"Jazz\", \"Rock\", \"Hip-Hop\", \"Classical\"]\n",
    "myexplode = [0.2, 0, 0, 0, 0]\n",
    "\n",
    "\n",
    "fig, ax = plt.subplots()\n",
    "ax.pie(x, labels=labels, explode = myexplode, shadow = True)\n",
    "ax.set_title('Popular Genres among Artist')\n",
    "plt.tight_layout()\n",
    "plt.show()\n",
    "\n",
    "# Pop music is the most popular among the artists"
   ]
  },
  {
   "cell_type": "code",
   "execution_count": null,
   "id": "f8eb4131",
   "metadata": {},
   "outputs": [],
   "source": [
    "x = [\"Pop\", \"Jazz\", \"Rock\", \"Hip-Hop\", \"Classical\"]\n",
    "y = [37, 22, 22, 19, 16]\n",
    "\n",
    "plt.bar(x, y, color = \"purple\")\n",
    "plt.title('Popular Genres among Artists')\n",
    "plt.xlabel('Genre')\n",
    "plt.ylabel('Number of Artists')\n",
    "plt.show()"
   ]
  },
  {
   "cell_type": "markdown",
   "id": "3a9d9e07",
   "metadata": {},
   "source": [
    "## Gender \n",
    "\n",
    "Find the mode, count, and proportion of artists by gender."
   ]
  },
  {
   "cell_type": "markdown",
   "id": "7849d9c3",
   "metadata": {},
   "source": [
    "#### Gender Mode\n",
    "\n",
    "Male artists and groups are more common that female or mixed gender groups."
   ]
  },
  {
   "cell_type": "code",
   "execution_count": null,
   "id": "f400444c",
   "metadata": {},
   "outputs": [],
   "source": [
    "statistics.mode(gender_dropped['gender'])"
   ]
  },
  {
   "cell_type": "markdown",
   "id": "4b6c1d94",
   "metadata": {},
   "source": [
    "#### Gender Count"
   ]
  },
  {
   "cell_type": "code",
   "execution_count": null,
   "id": "dbb3f0fb",
   "metadata": {},
   "outputs": [],
   "source": [
    "#GENDER COUNT - NULL DROPPED\n",
    "\n",
    "#count of unique genres, excluding null values\n",
    "gender_counts_dropped = gender_dropped['gender'].value_counts()\n",
    "\n",
    "#series\n",
    "gender_counts_dropped\n",
    "\n",
    "#create dictionary and convert to df\n",
    "gender_counts_dict = {'Gender Count':gender_counts_dropped}\n",
    "gender_counts_df = pd.DataFrame(gender_counts_dict)\n",
    "gender_counts_df"
   ]
  },
  {
   "cell_type": "markdown",
   "id": "e4743248",
   "metadata": {},
   "source": [
    "#### Gender Proportion"
   ]
  },
  {
   "cell_type": "code",
   "execution_count": null,
   "id": "ccf795ba",
   "metadata": {},
   "outputs": [],
   "source": [
    "#GENDER PROPORTION - NULL DROPPED\n",
    "\n",
    "#proportion each genre represents in the data\n",
    "gender_proportion_dropped = round(gender_counts_dropped / gender_counts_dropped.sum(), 2)\n",
    "\n",
    "#series\n",
    "gender_proportion_dropped\n",
    "\n",
    "#create dictionary and convert to df\n",
    "gender_proportion_dict = {'Gender Proportion':gender_proportion_dropped}\n",
    "gender_proportion_df = pd.DataFrame(gender_proportion_dict)\n",
    "gender_proportion_df"
   ]
  },
  {
   "cell_type": "code",
   "execution_count": null,
   "id": "6ec740cd",
   "metadata": {},
   "outputs": [],
   "source": [
    "category_order = ['Male', 'Female', 'Mixed']\n",
    "\n",
    "sns.countplot(x = gender_dropped['gender'], data = audio_df, order = category_order)\n",
    "plt.title('Gender of Artists/Bands')\n",
    "plt.show()"
   ]
  },
  {
   "cell_type": "code",
   "execution_count": null,
   "id": "642902ae",
   "metadata": {},
   "outputs": [],
   "source": [
    "x = [307, 80, 37]\n",
    "labels = ['Male', 'Female', 'Mixed']\n",
    "myexplode = [0.2, 0, 0]\n",
    "\n",
    "fig, ax = plt.subplots()\n",
    "ax.pie(x, labels=labels, explode = myexplode, shadow = True)\n",
    "ax.set_title('Gender of Artists/Bands')\n",
    "plt.tight_layout()\n",
    "plt.show()"
   ]
  },
  {
   "cell_type": "markdown",
   "id": "6d635136",
   "metadata": {},
   "source": [
    "## Year Formed\n",
    "\n",
    "Find the minimum, maximum, and number of artists/bands formed per year."
   ]
  },
  {
   "cell_type": "code",
   "execution_count": null,
   "id": "a16a1b7d",
   "metadata": {},
   "outputs": [],
   "source": [
    "#Find the max year\n",
    "max_year_formed = year_formed_dropped['year_formed'].max()\n",
    "max_year_formed"
   ]
  },
  {
   "cell_type": "code",
   "execution_count": null,
   "id": "5d9794cb",
   "metadata": {},
   "outputs": [],
   "source": [
    "#Find the max year\n",
    "min_year_formed = year_formed_dropped['year_formed'].min()\n",
    "min_year_formed"
   ]
  },
  {
   "cell_type": "code",
   "execution_count": null,
   "id": "a4f64a89",
   "metadata": {},
   "outputs": [],
   "source": [
    "#Find the number of band formed each year\n",
    "year_count = year_formed_dropped.groupby('year_formed').size()\n",
    "\n",
    "#create dictionary and convert to df\n",
    "year_count_dict = {'Year Count':year_count}\n",
    "year_count_df = pd.DataFrame(year_count_dict)\n",
    "year_count_df"
   ]
  },
  {
   "cell_type": "markdown",
   "id": "4e81007c",
   "metadata": {},
   "source": [
    "## Analysis on Multiple Columns\n",
    "\n",
    "Find the genres for the top 3 locations.\n",
    "\n",
    "Find the years artists/bands were formed for the top 3 genres."
   ]
  },
  {
   "cell_type": "markdown",
   "id": "99cfd7cd",
   "metadata": {},
   "source": [
    "#### Genres by Top 3 Locations\n",
    "\n",
    "An analysis of the genres in the top 3 countries"
   ]
  },
  {
   "cell_type": "code",
   "execution_count": null,
   "id": "7123d4f9",
   "metadata": {
    "scrolled": false
   },
   "outputs": [],
   "source": [
    "#Genre by Location\n",
    "#GROUPBYS WITH NULL VALUES DROPPED\n",
    "\n",
    "#create new vartiables = one df with null values in 'genre' and 'location' dropped\n",
    "genre_location_na = location_na.replace({'genre': r'Null'}, {'genre': np.nan}, regex=True)\n",
    "genre_location_dropped = genre_location_na.dropna(axis=0, subset=['genre'], inplace=False)\n",
    "genre_location_na.dropna(axis=0, subset=['location'], inplace=False)\n",
    "genre_location_dropped\n",
    "\n",
    "#groupby location\n",
    "genre_location_grouped = genre_location_dropped.groupby('location')\n",
    "\n",
    "#count location by genre\n",
    "genre_by_location = genre_location_grouped['genre'].value_counts()\n",
    "\n",
    "#sort values in descending order\n",
    "genre_by_location_sorted = genre_by_location.sort_values(ascending=False)\n",
    "\n",
    "#isolate top 3 locations\n",
    "genre_by_location_top3 = genre_by_location_sorted.loc[['USA', 'UK', 'Germany']]\n",
    "\n",
    "genre_by_location_top3\n",
    "\n",
    "#create dictionary and convert to df\n",
    "genre_by_location_top3_dict = {'Genre by Location':genre_by_location_top3}\n",
    "genre_by_location_top3_df = pd.DataFrame(genre_by_location_top3_dict)\n",
    "genre_by_location_top3_df"
   ]
  },
  {
   "cell_type": "markdown",
   "id": "6dcd8c1a",
   "metadata": {},
   "source": [
    "#### Genres by Year\n",
    "\n",
    "An analysis of the year that bands formed and the genre they play in."
   ]
  },
  {
   "cell_type": "code",
   "execution_count": null,
   "id": "4ef34a24",
   "metadata": {
    "scrolled": false
   },
   "outputs": [],
   "source": [
    "#Genre by Year\n",
    "#GROUPBYS WITH NULL VALUES DROPPED\n",
    "\n",
    "#create new vartiables = one df with null values in 'genre' and 'year_formed' dropped\n",
    "genre_year_na = genre_na.replace({'year_formed': r'Null'}, {'year_formed': np.nan}, regex=True)\n",
    "genre_year_dropped = genre_year_na.dropna(axis=0, subset=['year_formed'], inplace=False)\n",
    "genre_year_dropped\n",
    "\n",
    "#groupby year formed\n",
    "year_genre_grouped = genre_year_dropped.groupby('genre')\n",
    "\n",
    "#count genre on year formed groupby\n",
    "year_by_genre = year_genre_grouped['year_formed'].value_counts()\n",
    "\n",
    "year_by_genre_top3 = year_by_genre.loc[['Pop', 'Jazz', 'Rock']]\n",
    "\n",
    "#create dictionary and convert to df\n",
    "year_by_genre_top3_dict = {'Genre by Year':year_by_genre_top3}\n",
    "year_by_genre_top3_df = pd.DataFrame(year_by_genre_top3_dict)\n",
    "year_by_genre_top3_df"
   ]
  }
 ],
 "metadata": {
  "interpreter": {
   "hash": "aee8b7b246df8f9039afb4144a1f6fd8d2ca17a180786b69acc140d282b71a49"
  },
  "kernelspec": {
   "display_name": "Python 3 (ipykernel)",
   "language": "python",
   "name": "python3"
  },
  "language_info": {
   "codemirror_mode": {
    "name": "ipython",
    "version": 3
   },
   "file_extension": ".py",
   "mimetype": "text/x-python",
   "name": "python",
   "nbconvert_exporter": "python",
   "pygments_lexer": "ipython3",
   "version": "3.9.7"
  }
 },
 "nbformat": 4,
 "nbformat_minor": 5
}
